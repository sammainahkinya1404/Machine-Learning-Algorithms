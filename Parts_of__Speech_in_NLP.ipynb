{
  "nbformat": 4,
  "nbformat_minor": 0,
  "metadata": {
    "colab": {
      "provenance": [],
      "authorship_tag": "ABX9TyPoqV3t+Mi45tfuB/oXUyx2",
      "include_colab_link": true
    },
    "kernelspec": {
      "name": "python3",
      "display_name": "Python 3"
    },
    "language_info": {
      "name": "python"
    }
  },
  "cells": [
    {
      "cell_type": "markdown",
      "metadata": {
        "id": "view-in-github",
        "colab_type": "text"
      },
      "source": [
        "<a href=\"https://colab.research.google.com/github/sammainahkinya1404/Machine-Learning-Algorithms/blob/main/Parts_of__Speech_in_NLP.ipynb\" target=\"_parent\"><img src=\"https://colab.research.google.com/assets/colab-badge.svg\" alt=\"Open In Colab\"/></a>"
      ]
    },
    {
      "cell_type": "code",
      "source": [
        "import numpy as np\n",
        "from keras.models import Sequential\n",
        "from keras.layers import LSTM, Dense, Bidirectional, Embedding"
      ],
      "metadata": {
        "id": "5Q0Ada361u4R"
      },
      "execution_count": 1,
      "outputs": []
    },
    {
      "cell_type": "code",
      "source": [
        "# Example data (replace with your actual data)\n",
        "sentences = [\"I love coding\", \"She likes swimming\"]\n",
        "tags = [\"PRON VERB NOUN\", \"PRON VERB NOUN\"]"
      ],
      "metadata": {
        "id": "cs9nRm-v1zpt"
      },
      "execution_count": 2,
      "outputs": []
    },
    {
      "cell_type": "code",
      "source": [
        "# Tokenize words and create vocabulary\n",
        "words = set(word for sentence in sentences for word in sentence.split())\n",
        "word2idx = {word: idx + 1 for idx, word in enumerate(words)}\n",
        "word2idx['<PAD>'] = 0\n",
        "idx2word = {idx: word for word, idx in word2idx.items()}\n",
        "max_len = max(len(sentence.split()) for sentence in sentences)"
      ],
      "metadata": {
        "id": "QOj2SNen12c0"
      },
      "execution_count": 3,
      "outputs": []
    },
    {
      "cell_type": "code",
      "source": [
        "# Tokenize POS tags and create vocabulary\n",
        "tags = set(tag for tag_seq in tags for tag in tag_seq.split())\n",
        "tag2idx = {tag: idx for idx, tag in enumerate(tags)}\n",
        "idx2word= {idx: tag for tag, idx in tag2idx.items()}"
      ],
      "metadata": {
        "id": "nEjyGM8L16nU"
      },
      "execution_count": 5,
      "outputs": []
    },
    {
      "cell_type": "code",
      "source": [
        "# Convert sentences and tags to sequences of indices\n",
        "X = [[word2idx[word] for word in sentence.split()] for sentence in sentences]\n",
        "X = np.array([x + [0] * (max_len - len(x)) for x in X])  # Padding\n",
        "y = [[tag2idx[tag] for tag in tag_seq.split()] for tag_seq in tags]\n",
        "y = np.array([y + [0] * (max_len - len(y)) for y in y])  # Padding\n"
      ],
      "metadata": {
        "id": "mMWmxdP92L5n"
      },
      "execution_count": 6,
      "outputs": []
    },
    {
      "cell_type": "code",
      "source": [
        "# Define and compile BLSTM model\n",
        "model = Sequential()\n",
        "model.add(Embedding(input_dim=len(word2idx), output_dim=100, input_length=max_len))\n",
        "model.add(Bidirectional(LSTM(units=50, return_sequences=True)))\n",
        "model.add(Dense(len(tag2idx), activation='softmax'))\n",
        "model.compile(loss='sparse_categorical_crossentropy', optimizer='adam', metrics=['accuracy'])"
      ],
      "metadata": {
        "id": "unruEPeT2S18"
      },
      "execution_count": 7,
      "outputs": []
    },
    {
      "cell_type": "code",
      "source": [
        "model.summary()"
      ],
      "metadata": {
        "colab": {
          "base_uri": "https://localhost:8080/"
        },
        "id": "GxHVP4de2VmR",
        "outputId": "73cc9994-cd3d-446a-f418-096ee2729b4a"
      },
      "execution_count": 8,
      "outputs": [
        {
          "output_type": "stream",
          "name": "stdout",
          "text": [
            "Model: \"sequential\"\n",
            "_________________________________________________________________\n",
            " Layer (type)                Output Shape              Param #   \n",
            "=================================================================\n",
            " embedding (Embedding)       (None, 3, 100)            700       \n",
            "                                                                 \n",
            " bidirectional (Bidirection  (None, 3, 100)            60400     \n",
            " al)                                                             \n",
            "                                                                 \n",
            " dense (Dense)               (None, 3, 3)              303       \n",
            "                                                                 \n",
            "=================================================================\n",
            "Total params: 61403 (239.86 KB)\n",
            "Trainable params: 61403 (239.86 KB)\n",
            "Non-trainable params: 0 (0.00 Byte)\n",
            "_________________________________________________________________\n"
          ]
        }
      ]
    },
    {
      "cell_type": "code",
      "source": [
        "# Train the model\n",
        "model.fit(X, y, batch_size=32, epochs=10, validation_split=0.2)\n"
      ],
      "metadata": {
        "colab": {
          "base_uri": "https://localhost:8080/"
        },
        "id": "YaVHM3pS2alF",
        "outputId": "ac320807-5d1e-4681-d988-445db933168b"
      },
      "execution_count": 9,
      "outputs": [
        {
          "output_type": "stream",
          "name": "stdout",
          "text": [
            "Epoch 1/10\n",
            "1/1 [==============================] - 5s 5s/step - loss: 1.1069 - accuracy: 0.0000e+00 - val_loss: 1.1024 - val_accuracy: 0.0000e+00\n",
            "Epoch 2/10\n",
            "1/1 [==============================] - 0s 45ms/step - loss: 1.0920 - accuracy: 1.0000 - val_loss: 1.0995 - val_accuracy: 0.0000e+00\n",
            "Epoch 3/10\n",
            "1/1 [==============================] - 0s 42ms/step - loss: 1.0773 - accuracy: 1.0000 - val_loss: 1.0966 - val_accuracy: 0.3333\n",
            "Epoch 4/10\n",
            "1/1 [==============================] - 0s 38ms/step - loss: 1.0625 - accuracy: 1.0000 - val_loss: 1.0937 - val_accuracy: 0.6667\n",
            "Epoch 5/10\n",
            "1/1 [==============================] - 0s 43ms/step - loss: 1.0476 - accuracy: 1.0000 - val_loss: 1.0908 - val_accuracy: 0.6667\n",
            "Epoch 6/10\n",
            "1/1 [==============================] - 0s 39ms/step - loss: 1.0325 - accuracy: 1.0000 - val_loss: 1.0879 - val_accuracy: 0.6667\n",
            "Epoch 7/10\n",
            "1/1 [==============================] - 0s 58ms/step - loss: 1.0169 - accuracy: 1.0000 - val_loss: 1.0848 - val_accuracy: 0.6667\n",
            "Epoch 8/10\n",
            "1/1 [==============================] - 0s 40ms/step - loss: 1.0008 - accuracy: 1.0000 - val_loss: 1.0817 - val_accuracy: 0.6667\n",
            "Epoch 9/10\n",
            "1/1 [==============================] - 0s 40ms/step - loss: 0.9840 - accuracy: 1.0000 - val_loss: 1.0786 - val_accuracy: 0.6667\n",
            "Epoch 10/10\n",
            "1/1 [==============================] - 0s 45ms/step - loss: 0.9664 - accuracy: 1.0000 - val_loss: 1.0753 - val_accuracy: 0.6667\n"
          ]
        },
        {
          "output_type": "execute_result",
          "data": {
            "text/plain": [
              "<keras.src.callbacks.History at 0x7fa51453d4b0>"
            ]
          },
          "metadata": {},
          "execution_count": 9
        }
      ]
    },
    {
      "cell_type": "code",
      "execution_count": 10,
      "metadata": {
        "colab": {
          "base_uri": "https://localhost:8080/",
          "height": 332
        },
        "id": "G0yoNnSqz-i9",
        "outputId": "1cf5488c-ab50-44f5-fd32-418f6df1b20d"
      },
      "outputs": [
        {
          "output_type": "error",
          "ename": "KeyError",
          "evalue": "'He'",
          "traceback": [
            "\u001b[0;31m---------------------------------------------------------------------------\u001b[0m",
            "\u001b[0;31mKeyError\u001b[0m                                  Traceback (most recent call last)",
            "\u001b[0;32m<ipython-input-10-05b3675e86d6>\u001b[0m in \u001b[0;36m<cell line: 3>\u001b[0;34m()\u001b[0m\n\u001b[1;32m      1\u001b[0m \u001b[0;31m# Example inference\u001b[0m\u001b[0;34m\u001b[0m\u001b[0;34m\u001b[0m\u001b[0m\n\u001b[1;32m      2\u001b[0m \u001b[0mtest_sentence\u001b[0m \u001b[0;34m=\u001b[0m \u001b[0;34m\"He enjoys swimming\"\u001b[0m\u001b[0;34m\u001b[0m\u001b[0;34m\u001b[0m\u001b[0m\n\u001b[0;32m----> 3\u001b[0;31m \u001b[0mtest_sequence\u001b[0m \u001b[0;34m=\u001b[0m \u001b[0;34m[\u001b[0m\u001b[0mword2idx\u001b[0m\u001b[0;34m[\u001b[0m\u001b[0mword\u001b[0m\u001b[0;34m]\u001b[0m \u001b[0;32mfor\u001b[0m \u001b[0mword\u001b[0m \u001b[0;32min\u001b[0m \u001b[0mtest_sentence\u001b[0m\u001b[0;34m.\u001b[0m\u001b[0msplit\u001b[0m\u001b[0;34m(\u001b[0m\u001b[0;34m)\u001b[0m\u001b[0;34m]\u001b[0m\u001b[0;34m\u001b[0m\u001b[0;34m\u001b[0m\u001b[0m\n\u001b[0m\u001b[1;32m      4\u001b[0m \u001b[0mtest_sequence\u001b[0m \u001b[0;34m=\u001b[0m \u001b[0mnp\u001b[0m\u001b[0;34m.\u001b[0m\u001b[0marray\u001b[0m\u001b[0;34m(\u001b[0m\u001b[0mtest_sequence\u001b[0m \u001b[0;34m+\u001b[0m \u001b[0;34m[\u001b[0m\u001b[0;36m0\u001b[0m\u001b[0;34m]\u001b[0m \u001b[0;34m*\u001b[0m \u001b[0;34m(\u001b[0m\u001b[0mmax_len\u001b[0m \u001b[0;34m-\u001b[0m \u001b[0mlen\u001b[0m\u001b[0;34m(\u001b[0m\u001b[0mtest_sequence\u001b[0m\u001b[0;34m)\u001b[0m\u001b[0;34m)\u001b[0m\u001b[0;34m)\u001b[0m  \u001b[0;31m# Padding\u001b[0m\u001b[0;34m\u001b[0m\u001b[0;34m\u001b[0m\u001b[0m\n\u001b[1;32m      5\u001b[0m \u001b[0mpredictions\u001b[0m \u001b[0;34m=\u001b[0m \u001b[0mmodel\u001b[0m\u001b[0;34m.\u001b[0m\u001b[0mpredict\u001b[0m\u001b[0;34m(\u001b[0m\u001b[0mtest_sequence\u001b[0m\u001b[0;34m.\u001b[0m\u001b[0mreshape\u001b[0m\u001b[0;34m(\u001b[0m\u001b[0;36m1\u001b[0m\u001b[0;34m,\u001b[0m \u001b[0;34m-\u001b[0m\u001b[0;36m1\u001b[0m\u001b[0;34m)\u001b[0m\u001b[0;34m)\u001b[0m\u001b[0;34m\u001b[0m\u001b[0;34m\u001b[0m\u001b[0m\n",
            "\u001b[0;32m<ipython-input-10-05b3675e86d6>\u001b[0m in \u001b[0;36m<listcomp>\u001b[0;34m(.0)\u001b[0m\n\u001b[1;32m      1\u001b[0m \u001b[0;31m# Example inference\u001b[0m\u001b[0;34m\u001b[0m\u001b[0;34m\u001b[0m\u001b[0m\n\u001b[1;32m      2\u001b[0m \u001b[0mtest_sentence\u001b[0m \u001b[0;34m=\u001b[0m \u001b[0;34m\"He enjoys swimming\"\u001b[0m\u001b[0;34m\u001b[0m\u001b[0;34m\u001b[0m\u001b[0m\n\u001b[0;32m----> 3\u001b[0;31m \u001b[0mtest_sequence\u001b[0m \u001b[0;34m=\u001b[0m \u001b[0;34m[\u001b[0m\u001b[0mword2idx\u001b[0m\u001b[0;34m[\u001b[0m\u001b[0mword\u001b[0m\u001b[0;34m]\u001b[0m \u001b[0;32mfor\u001b[0m \u001b[0mword\u001b[0m \u001b[0;32min\u001b[0m \u001b[0mtest_sentence\u001b[0m\u001b[0;34m.\u001b[0m\u001b[0msplit\u001b[0m\u001b[0;34m(\u001b[0m\u001b[0;34m)\u001b[0m\u001b[0;34m]\u001b[0m\u001b[0;34m\u001b[0m\u001b[0;34m\u001b[0m\u001b[0m\n\u001b[0m\u001b[1;32m      4\u001b[0m \u001b[0mtest_sequence\u001b[0m \u001b[0;34m=\u001b[0m \u001b[0mnp\u001b[0m\u001b[0;34m.\u001b[0m\u001b[0marray\u001b[0m\u001b[0;34m(\u001b[0m\u001b[0mtest_sequence\u001b[0m \u001b[0;34m+\u001b[0m \u001b[0;34m[\u001b[0m\u001b[0;36m0\u001b[0m\u001b[0;34m]\u001b[0m \u001b[0;34m*\u001b[0m \u001b[0;34m(\u001b[0m\u001b[0mmax_len\u001b[0m \u001b[0;34m-\u001b[0m \u001b[0mlen\u001b[0m\u001b[0;34m(\u001b[0m\u001b[0mtest_sequence\u001b[0m\u001b[0;34m)\u001b[0m\u001b[0;34m)\u001b[0m\u001b[0;34m)\u001b[0m  \u001b[0;31m# Padding\u001b[0m\u001b[0;34m\u001b[0m\u001b[0;34m\u001b[0m\u001b[0m\n\u001b[1;32m      5\u001b[0m \u001b[0mpredictions\u001b[0m \u001b[0;34m=\u001b[0m \u001b[0mmodel\u001b[0m\u001b[0;34m.\u001b[0m\u001b[0mpredict\u001b[0m\u001b[0;34m(\u001b[0m\u001b[0mtest_sequence\u001b[0m\u001b[0;34m.\u001b[0m\u001b[0mreshape\u001b[0m\u001b[0;34m(\u001b[0m\u001b[0;36m1\u001b[0m\u001b[0;34m,\u001b[0m \u001b[0;34m-\u001b[0m\u001b[0;36m1\u001b[0m\u001b[0;34m)\u001b[0m\u001b[0;34m)\u001b[0m\u001b[0;34m\u001b[0m\u001b[0;34m\u001b[0m\u001b[0m\n",
            "\u001b[0;31mKeyError\u001b[0m: 'He'"
          ]
        }
      ],
      "source": [
        "# Example inference\n",
        "test_sentence = \"He enjoys swimming\"\n",
        "test_sequence = [word2idx[word] for word in test_sentence.split()]\n",
        "test_sequence = np.array(test_sequence + [0] * (max_len - len(test_sequence)))  # Padding\n",
        "predictions = model.predict(test_sequence.reshape(1, -1))\n",
        "predicted_tags = [idx2word[np.argmax(pred)] for pred in predictions]\n",
        "print(predicted_tags)\n"
      ]
    }
  ]
}