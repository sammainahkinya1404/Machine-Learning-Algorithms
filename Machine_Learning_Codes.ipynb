{
  "nbformat": 4,
  "nbformat_minor": 0,
  "metadata": {
    "colab": {
      "provenance": [],
      "authorship_tag": "ABX9TyONtuB7X3PPyElHxK6b0NYx",
      "include_colab_link": true
    },
    "kernelspec": {
      "name": "python3",
      "display_name": "Python 3"
    },
    "language_info": {
      "name": "python"
    }
  },
  "cells": [
    {
      "cell_type": "markdown",
      "metadata": {
        "id": "view-in-github",
        "colab_type": "text"
      },
      "source": [
        "<a href=\"https://colab.research.google.com/github/sammainahkinya1404/Machine-Learning-Algorithms/blob/main/Machine_Learning_Codes.ipynb\" target=\"_parent\"><img src=\"https://colab.research.google.com/assets/colab-badge.svg\" alt=\"Open In Colab\"/></a>"
      ]
    },
    {
      "cell_type": "markdown",
      "source": [
        "###Expected Mean"
      ],
      "metadata": {
        "id": "jf4B4-v8pajN"
      }
    },
    {
      "cell_type": "code",
      "execution_count": 2,
      "metadata": {
        "id": "CsQLZdt4jJrq"
      },
      "outputs": [],
      "source": [
        "from numpy import array\n",
        "from numpy import mean"
      ]
    },
    {
      "cell_type": "code",
      "source": [
        "arr=array([[1,2,3,4,5,6],[1,2,3,4,5,6]])"
      ],
      "metadata": {
        "id": "sPCmCS35nvbp"
      },
      "execution_count": 9,
      "outputs": []
    },
    {
      "cell_type": "code",
      "source": [
        "print(arr)"
      ],
      "metadata": {
        "colab": {
          "base_uri": "https://localhost:8080/"
        },
        "id": "DcFLle3mn4g_",
        "outputId": "4cd66934-d733-4416-ea12-b3ed3b65b291"
      },
      "execution_count": 10,
      "outputs": [
        {
          "output_type": "stream",
          "name": "stdout",
          "text": [
            "[[1 2 3 4 5 6]\n",
            " [1 2 3 4 5 6]]\n"
          ]
        }
      ]
    },
    {
      "cell_type": "code",
      "source": [
        "results1=mean(arr , axis=0)"
      ],
      "metadata": {
        "id": "ClfZx0_En874"
      },
      "execution_count": 11,
      "outputs": []
    },
    {
      "cell_type": "code",
      "source": [
        "print(results1)"
      ],
      "metadata": {
        "colab": {
          "base_uri": "https://localhost:8080/"
        },
        "id": "956H9dEioFdV",
        "outputId": "b3e51cd0-242d-4a53-a80b-a39398eea709"
      },
      "execution_count": 12,
      "outputs": [
        {
          "output_type": "stream",
          "name": "stdout",
          "text": [
            "[1. 2. 3. 4. 5. 6.]\n"
          ]
        }
      ]
    },
    {
      "cell_type": "code",
      "source": [
        "results2=mean(arr , axis=1)"
      ],
      "metadata": {
        "id": "eD1IEK-4o04A"
      },
      "execution_count": 13,
      "outputs": []
    },
    {
      "cell_type": "code",
      "source": [
        "print(results1)"
      ],
      "metadata": {
        "colab": {
          "base_uri": "https://localhost:8080/"
        },
        "id": "--t6hgFZo2sn",
        "outputId": "ba389220-0aa2-4ba0-b221-674aa7d13976"
      },
      "execution_count": 14,
      "outputs": [
        {
          "output_type": "stream",
          "name": "stdout",
          "text": [
            "[1. 2. 3. 4. 5. 6.]\n"
          ]
        }
      ]
    },
    {
      "cell_type": "code",
      "source": [
        "# mean for the Matrix\n",
        "results3=mean(arr)\n",
        "results3"
      ],
      "metadata": {
        "colab": {
          "base_uri": "https://localhost:8080/"
        },
        "id": "A9Q-e-iGpApa",
        "outputId": "2327ff35-d05a-4077-df9f-12ed926ea0d7"
      },
      "execution_count": 18,
      "outputs": [
        {
          "output_type": "execute_result",
          "data": {
            "text/plain": [
              "3.5"
            ]
          },
          "metadata": {},
          "execution_count": 18
        }
      ]
    },
    {
      "cell_type": "code",
      "source": [
        "import numpy as np\n",
        "\n",
        "matrix=np.array([[1,2,3],[4,5,6],[7,8,9]])"
      ],
      "metadata": {
        "id": "K34a3uhQtDOw"
      },
      "execution_count": 19,
      "outputs": []
    },
    {
      "cell_type": "code",
      "source": [
        "# mean\n",
        "mn=np.mean(matrix)\n",
        "mn"
      ],
      "metadata": {
        "colab": {
          "base_uri": "https://localhost:8080/"
        },
        "id": "hHSTB8tit96r",
        "outputId": "d18140f8-53d4-458a-c4d1-9108dd6d6910"
      },
      "execution_count": 21,
      "outputs": [
        {
          "output_type": "execute_result",
          "data": {
            "text/plain": [
              "2.0"
            ]
          },
          "metadata": {},
          "execution_count": 21
        }
      ]
    },
    {
      "cell_type": "code",
      "source": [
        "# variance\n",
        "variance=np.var(matrix)\n",
        "variance"
      ],
      "metadata": {
        "colab": {
          "base_uri": "https://localhost:8080/"
        },
        "id": "eKnJLc01tRyu",
        "outputId": "62a72e8d-3095-47f5-89db-a1c02617071c"
      },
      "execution_count": 20,
      "outputs": [
        {
          "output_type": "execute_result",
          "data": {
            "text/plain": [
              "0.6666666666666666"
            ]
          },
          "metadata": {},
          "execution_count": 20
        }
      ]
    },
    {
      "cell_type": "code",
      "source": [
        "# standard deviation\n",
        "sd=np.std(matrix)\n",
        "sd"
      ],
      "metadata": {
        "colab": {
          "base_uri": "https://localhost:8080/"
        },
        "id": "3SsNfL9puK17",
        "outputId": "b37c03f0-2e87-49d7-bc78-4f9dde36be85"
      },
      "execution_count": 23,
      "outputs": [
        {
          "output_type": "execute_result",
          "data": {
            "text/plain": [
              "0.816496580927726"
            ]
          },
          "metadata": {},
          "execution_count": 23
        }
      ]
    },
    {
      "cell_type": "code",
      "source": [
        "# covariance\n",
        "x=np.array([1,2,5,6,89,78,78])\n",
        "x.shape\n",
        "y=np.array([4,5,89,85,78,74,85])\n",
        "y.shape"
      ],
      "metadata": {
        "colab": {
          "base_uri": "https://localhost:8080/"
        },
        "id": "2nkQlDYV1OoG",
        "outputId": "c15aff59-d2bd-41e4-cba8-4d627fc4d0e8"
      },
      "execution_count": 24,
      "outputs": [
        {
          "output_type": "execute_result",
          "data": {
            "text/plain": [
              "(7,)"
            ]
          },
          "metadata": {},
          "execution_count": 24
        }
      ]
    },
    {
      "cell_type": "code",
      "source": [
        "# covariance\n",
        "sigma=np.cov(x,y)[0,1]\n",
        "sigma"
      ],
      "metadata": {
        "colab": {
          "base_uri": "https://localhost:8080/"
        },
        "id": "42IeJkcg1qmO",
        "outputId": "1ca9c93d-7798-4e92-ac44-d2bf536c14be"
      },
      "execution_count": 26,
      "outputs": [
        {
          "output_type": "execute_result",
          "data": {
            "text/plain": [
              "795.5"
            ]
          },
          "metadata": {},
          "execution_count": 26
        }
      ]
    },
    {
      "cell_type": "code",
      "source": [
        "# Correlation\n",
        "sigma2=np.corrcoef(x,y)[0,1]\n",
        "sigma2"
      ],
      "metadata": {
        "colab": {
          "base_uri": "https://localhost:8080/"
        },
        "id": "1SIvqe7C2KQX",
        "outputId": "4ef9f01c-b72e-4a47-8b17-e365c69c6473"
      },
      "execution_count": 28,
      "outputs": [
        {
          "output_type": "execute_result",
          "data": {
            "text/plain": [
              "0.49563680145148764"
            ]
          },
          "metadata": {},
          "execution_count": 28
        }
      ]
    }
  ]
}