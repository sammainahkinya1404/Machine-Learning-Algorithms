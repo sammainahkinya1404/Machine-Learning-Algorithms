{
  "nbformat": 4,
  "nbformat_minor": 0,
  "metadata": {
    "colab": {
      "provenance": [],
      "authorship_tag": "ABX9TyOLMLq+WZp+2AurJVe4wy8c",
      "include_colab_link": true
    },
    "kernelspec": {
      "name": "python3",
      "display_name": "Python 3"
    },
    "language_info": {
      "name": "python"
    }
  },
  "cells": [
    {
      "cell_type": "markdown",
      "metadata": {
        "id": "view-in-github",
        "colab_type": "text"
      },
      "source": [
        "<a href=\"https://colab.research.google.com/github/sammainahkinya1404/Machine-Learning-Algorithms/blob/main/Python_Fundamentals_IN_Data_Analytics.ipynb\" target=\"_parent\"><img src=\"https://colab.research.google.com/assets/colab-badge.svg\" alt=\"Open In Colab\"/></a>"
      ]
    },
    {
      "cell_type": "markdown",
      "source": [
        " Queue is a linear data structure that stores items in a First In First Out (FIFO) manner.\n",
        "\n",
        "###Operations associated with queue are\n",
        "\n",
        "Enqueue: Adds an item to the queue. If the queue is full, then it is said to be an Overflow condition\n",
        "\n",
        "Dequeue: Removes an item from the queue. The items are popped in the same order in which they are pushed.\n",
        "\n",
        "If the queue is empty, then it is said to be an Underflow condition\n",
        "\n",
        "Front: Get the front item from queue\n",
        "\n",
        "Rear: Get the last item from queue"
      ],
      "metadata": {
        "id": "2n-lRlvWiMtt"
      }
    },
    {
      "cell_type": "markdown",
      "source": [],
      "metadata": {
        "id": "94Jaa20HiwQo"
      }
    },
    {
      "cell_type": "code",
      "source": [
        "# Implimenting the Queue using a List\n",
        "# empty Queue\n",
        "queue = []\n",
        "# Adding elements to a queue\n",
        "queue.append(1)\n",
        "queue.append(2)\n",
        "queue.append(2)\n",
        "print(\"Initial queue\")\n",
        "print(queue)"
      ],
      "metadata": {
        "colab": {
          "base_uri": "https://localhost:8080/"
        },
        "id": "hk2v6IZnhwuh",
        "outputId": "6d792bff-b192-41a4-a6ae-ae4f25398a5f"
      },
      "execution_count": 12,
      "outputs": [
        {
          "output_type": "stream",
          "name": "stdout",
          "text": [
            "Initial queue\n",
            "[1, 2, 2]\n"
          ]
        }
      ]
    },
    {
      "cell_type": "code",
      "source": [
        "# Removing\n",
        "print(\"\\nElements dequeued from queue\")\n",
        "print(queue.pop(0))\n",
        "print(queue.pop(0))\n",
        "print(queue.pop(0))"
      ],
      "metadata": {
        "colab": {
          "base_uri": "https://localhost:8080/"
        },
        "id": "Y9izRmVqiCA9",
        "outputId": "5b710463-1338-43c4-efdf-cd6816e4934c"
      },
      "execution_count": 13,
      "outputs": [
        {
          "output_type": "stream",
          "name": "stdout",
          "text": [
            "\n",
            "Elements dequeued from queue\n",
            "1\n",
            "2\n",
            "2\n"
          ]
        }
      ]
    },
    {
      "cell_type": "code",
      "source": [
        "# final state of the queue\n",
        "print(\"\\nQueue after removing elements\")\n",
        "print(queue)\n"
      ],
      "metadata": {
        "colab": {
          "base_uri": "https://localhost:8080/"
        },
        "id": "joSsB9Arhr0c",
        "outputId": "d3457e3a-7146-4ae6-bfc4-79f889faf394"
      },
      "execution_count": 15,
      "outputs": [
        {
          "output_type": "stream",
          "name": "stdout",
          "text": [
            "\n",
            "Queue after removing elements\n",
            "[]\n"
          ]
        }
      ]
    },
    {
      "cell_type": "code",
      "source": [
        "# Using In-built Queue\n",
        "import queue\n",
        "\n",
        "# Creating a Queue\n",
        "q = queue.Queue()\n",
        "\n"
      ],
      "metadata": {
        "id": "J0AGAy2kgteR"
      },
      "execution_count": 8,
      "outputs": []
    },
    {
      "cell_type": "code",
      "source": [
        "# Enqueue elements\n",
        "q.put(1)\n",
        "q.put(2)\n",
        "q.put(3)"
      ],
      "metadata": {
        "id": "ce9IolPNj0xI"
      },
      "execution_count": 9,
      "outputs": []
    },
    {
      "cell_type": "code",
      "source": [
        "# Dequeue elements\n",
        "while not q.empty():\n",
        "    print(q.get())\n"
      ],
      "metadata": {
        "colab": {
          "base_uri": "https://localhost:8080/"
        },
        "id": "mmSB4v11jyGX",
        "outputId": "e255b463-0cba-4f79-d53a-760c378bcec7"
      },
      "execution_count": 10,
      "outputs": [
        {
          "output_type": "stream",
          "name": "stdout",
          "text": [
            "1\n",
            "2\n",
            "3\n"
          ]
        }
      ]
    },
    {
      "cell_type": "markdown",
      "source": [
        "###Deque (Double-ended Queue)\n",
        "\n",
        "Deque allows insertion and deletion of elements from both ends efficiently."
      ],
      "metadata": {
        "id": "laiaTQdLkC1l"
      }
    },
    {
      "cell_type": "code",
      "source": [
        "# implimenting a dequeue\n",
        "from collections import deque\n",
        "\n",
        "# Creating a Deque\n",
        "dq = deque()\n",
        "\n",
        "# Enqueue elements\n",
        "dq.append(1)\n",
        "dq.append(2)\n",
        "dq.append(3)\n",
        "\n",
        "# Dequeue elements\n",
        "while dq:\n",
        "    print(dq.popleft())\n"
      ],
      "metadata": {
        "colab": {
          "base_uri": "https://localhost:8080/"
        },
        "id": "ChPuVGRljj8A",
        "outputId": "b8a28ab5-7e63-4b69-c247-08d69a0d3fea"
      },
      "execution_count": 11,
      "outputs": [
        {
          "output_type": "stream",
          "name": "stdout",
          "text": [
            "1\n",
            "2\n",
            "3\n"
          ]
        }
      ]
    }
  ]
}