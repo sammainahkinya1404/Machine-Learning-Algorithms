{
  "nbformat": 4,
  "nbformat_minor": 0,
  "metadata": {
    "colab": {
      "provenance": []
    },
    "kernelspec": {
      "name": "python3",
      "display_name": "Python 3"
    },
    "language_info": {
      "name": "python"
    }
  },
  "cells": [
    {
      "cell_type": "code",
      "execution_count": 1,
      "metadata": {
        "id": "p-KJvti8-jrG"
      },
      "outputs": [],
      "source": [
        "# Working with dataset\n",
        "# Data Primitives\n",
        "import torch\n",
        "from torch import nn\n",
        "from torch.utils.data import DataLoader\n",
        "from torchvision import datasets\n",
        "from torchvision.transforms import ToTensor"
      ]
    },
    {
      "cell_type": "code",
      "source": [
        "# Download training data from open datasets.\n",
        "training_data = datasets.FashionMNIST(\n",
        "    root=\"data\",\n",
        "    train=True,\n",
        "    download=True,\n",
        "    transform=ToTensor(),\n",
        ")\n",
        "\n",
        "# Download test data from open datasets.\n",
        "test_data = datasets.FashionMNIST(\n",
        "    root=\"data\",\n",
        "    train=False,\n",
        "    download=True,\n",
        "    transform=ToTensor(),\n",
        ")"
      ],
      "metadata": {
        "id": "AxBK8--0CcHt"
      },
      "execution_count": 12,
      "outputs": []
    },
    {
      "cell_type": "code",
      "source": [
        "batch_size = 64\n",
        "\n",
        "# Create data loaders.\n",
        "train_dataloader = DataLoader(training_data, batch_size=batch_size)\n",
        "test_dataloader = DataLoader(test_data, batch_size=batch_size)\n",
        "\n",
        "for X, y in test_dataloader:\n",
        "    print(f\"Shape of X [N, C, H, W]: {X.shape}\")\n",
        "    print(f\"Shape of y: {y.shape} {y.dtype}\")\n",
        "    break"
      ],
      "metadata": {
        "colab": {
          "base_uri": "https://localhost:8080/"
        },
        "id": "RbazuIYdG1MX",
        "outputId": "5c05460f-64ff-4fa6-efdc-6e2125eed5b2"
      },
      "execution_count": 13,
      "outputs": [
        {
          "output_type": "stream",
          "name": "stdout",
          "text": [
            "Shape of X [N, C, H, W]: torch.Size([64, 1, 28, 28])\n",
            "Shape of y: torch.Size([64]) torch.int64\n"
          ]
        }
      ]
    },
    {
      "cell_type": "code",
      "source": [
        "# Get cpu, gpu or mps device for training.\n",
        "device = (\n",
        "    \"cuda\"\n",
        "    if torch.cuda.is_available()\n",
        "    else \"mps\"\n",
        "    if torch.backends.mps.is_available()\n",
        "    else \"cpu\"\n",
        ")\n",
        "print(f\"Using {device} device\")"
      ],
      "metadata": {
        "colab": {
          "base_uri": "https://localhost:8080/"
        },
        "id": "qNH_sSGw8mdx",
        "outputId": "3799ded0-2e28-47ea-e06b-7f55e40988a6"
      },
      "execution_count": 14,
      "outputs": [
        {
          "output_type": "stream",
          "name": "stdout",
          "text": [
            "Using cpu device\n"
          ]
        }
      ]
    },
    {
      "cell_type": "code",
      "source": [
        "\n",
        "\n",
        "# Define model\n",
        "class NeuralNetwork(nn.Module):\n",
        "    def __init__(self):\n",
        "        super().__init__()\n",
        "        self.flatten = nn.Flatten()\n",
        "        self.linear_relu_stack = nn.Sequential(\n",
        "            nn.Linear(28*28, 512),\n",
        "            nn.ReLU(),\n",
        "            nn.Linear(512, 512),\n",
        "            nn.ReLU(),\n",
        "            nn.Linear(512, 10)\n",
        "        )\n",
        "\n",
        "    def forward(self, x):\n",
        "        x = self.flatten(x)\n",
        "        logits = self.linear_relu_stack(x)\n",
        "        return logits\n",
        "\n",
        "model = NeuralNetwork().to(device)\n",
        "print(model)"
      ],
      "metadata": {
        "colab": {
          "base_uri": "https://localhost:8080/"
        },
        "id": "oWy1Mylv8Vms",
        "outputId": "543e7e7d-d1f6-4a14-bc81-3ce38dd96151"
      },
      "execution_count": 15,
      "outputs": [
        {
          "output_type": "stream",
          "name": "stdout",
          "text": [
            "NeuralNetwork(\n",
            "  (flatten): Flatten(start_dim=1, end_dim=-1)\n",
            "  (linear_relu_stack): Sequential(\n",
            "    (0): Linear(in_features=784, out_features=512, bias=True)\n",
            "    (1): ReLU()\n",
            "    (2): Linear(in_features=512, out_features=512, bias=True)\n",
            "    (3): ReLU()\n",
            "    (4): Linear(in_features=512, out_features=10, bias=True)\n",
            "  )\n",
            ")\n"
          ]
        }
      ]
    },
    {
      "cell_type": "code",
      "source": [
        "# Optimizing The MOdel\n",
        "loss_fn = nn.CrossEntropyLoss()\n",
        "optimizer = torch.optim.SGD(model.parameters(), lr=1e-3)"
      ],
      "metadata": {
        "id": "n2mOCSUPA-eK"
      },
      "execution_count": 16,
      "outputs": []
    },
    {
      "cell_type": "code",
      "source": [
        "def train(dataloader, model, loss_fn, optimizer):\n",
        "    size = len(dataloader.dataset)\n",
        "    model.train()\n",
        "    for batch, (X, y) in enumerate(dataloader):\n",
        "        X, y = X.to(device), y.to(device)\n",
        "\n",
        "        # Compute prediction error\n",
        "        pred = model(X)\n",
        "        loss = loss_fn(pred, y)\n",
        "\n",
        "        # Backpropagation\n",
        "        loss.backward()\n",
        "        optimizer.step()\n",
        "        optimizer.zero_grad()\n",
        "\n",
        "        if batch % 100 == 0:\n",
        "            loss, current = loss.item(), (batch + 1) * len(X)\n",
        "            print(f\"loss: {loss:>7f}  [{current:>5d}/{size:>5d}]\")"
      ],
      "metadata": {
        "id": "o-sv_NZVBHGu"
      },
      "execution_count": 17,
      "outputs": []
    },
    {
      "cell_type": "code",
      "source": [
        "def test(dataloader, model, loss_fn):\n",
        "    size = len(dataloader.dataset)\n",
        "    num_batches = len(dataloader)\n",
        "    model.eval()\n",
        "    test_loss, correct = 0, 0\n",
        "    with torch.no_grad():\n",
        "        for X, y in dataloader:\n",
        "            X, y = X.to(device), y.to(device)\n",
        "            pred = model(X)\n",
        "            test_loss += loss_fn(pred, y).item()\n",
        "            correct += (pred.argmax(1) == y).type(torch.float).sum().item()\n",
        "    test_loss /= num_batches\n",
        "    correct /= size\n",
        "    print(f\"Test Error: \\n Accuracy: {(100*correct):>0.1f}%, Avg loss: {test_loss:>8f} \\n\")"
      ],
      "metadata": {
        "id": "ReYCt1IfBPCp"
      },
      "execution_count": 18,
      "outputs": []
    },
    {
      "cell_type": "code",
      "source": [
        "epochs = 5\n",
        "for t in range(epochs):\n",
        "    print(f\"Epoch {t+1}\\n-------------------------------\")\n",
        "    train(train_dataloader, model, loss_fn, optimizer)\n",
        "    test(test_dataloader, model, loss_fn)\n",
        "print(\"Done!\")"
      ],
      "metadata": {
        "colab": {
          "base_uri": "https://localhost:8080/"
        },
        "id": "6cgc2sGFBaJu",
        "outputId": "1b82f878-5b94-4d6f-fb8d-a2b54daab922"
      },
      "execution_count": 20,
      "outputs": [
        {
          "output_type": "stream",
          "name": "stdout",
          "text": [
            "Epoch 1\n",
            "-------------------------------\n",
            "loss: 2.304863  [   64/60000]\n",
            "loss: 2.289335  [ 6464/60000]\n",
            "loss: 2.272357  [12864/60000]\n",
            "loss: 2.264721  [19264/60000]\n",
            "loss: 2.244615  [25664/60000]\n",
            "loss: 2.207712  [32064/60000]\n",
            "loss: 2.223887  [38464/60000]\n",
            "loss: 2.181690  [44864/60000]\n",
            "loss: 2.173049  [51264/60000]\n",
            "loss: 2.147397  [57664/60000]\n",
            "Test Error: \n",
            " Accuracy: 44.6%, Avg loss: 2.139787 \n",
            "\n",
            "Epoch 2\n",
            "-------------------------------\n",
            "loss: 2.149802  [   64/60000]\n",
            "loss: 2.144110  [ 6464/60000]\n",
            "loss: 2.080498  [12864/60000]\n",
            "loss: 2.100373  [19264/60000]\n",
            "loss: 2.049790  [25664/60000]\n",
            "loss: 1.978837  [32064/60000]\n",
            "loss: 2.015922  [38464/60000]\n",
            "loss: 1.930170  [44864/60000]\n",
            "loss: 1.923274  [51264/60000]\n",
            "loss: 1.859700  [57664/60000]\n",
            "Test Error: \n",
            " Accuracy: 60.3%, Avg loss: 1.855735 \n",
            "\n",
            "Epoch 3\n",
            "-------------------------------\n",
            "loss: 1.884614  [   64/60000]\n",
            "loss: 1.862312  [ 6464/60000]\n",
            "loss: 1.734240  [12864/60000]\n",
            "loss: 1.784950  [19264/60000]\n",
            "loss: 1.676462  [25664/60000]\n",
            "loss: 1.625077  [32064/60000]\n",
            "loss: 1.651854  [38464/60000]\n",
            "loss: 1.555129  [44864/60000]\n",
            "loss: 1.565815  [51264/60000]\n",
            "loss: 1.474912  [57664/60000]\n",
            "Test Error: \n",
            " Accuracy: 62.0%, Avg loss: 1.489894 \n",
            "\n",
            "Epoch 4\n",
            "-------------------------------\n",
            "loss: 1.548361  [   64/60000]\n",
            "loss: 1.523910  [ 6464/60000]\n",
            "loss: 1.367520  [12864/60000]\n",
            "loss: 1.454797  [19264/60000]\n",
            "loss: 1.338976  [25664/60000]\n",
            "loss: 1.325157  [32064/60000]\n",
            "loss: 1.348272  [38464/60000]\n",
            "loss: 1.278281  [44864/60000]\n",
            "loss: 1.300887  [51264/60000]\n",
            "loss: 1.215143  [57664/60000]\n",
            "Test Error: \n",
            " Accuracy: 64.0%, Avg loss: 1.237637 \n",
            "\n",
            "Epoch 5\n",
            "-------------------------------\n",
            "loss: 1.304093  [   64/60000]\n",
            "loss: 1.294286  [ 6464/60000]\n",
            "loss: 1.124414  [12864/60000]\n",
            "loss: 1.244940  [19264/60000]\n",
            "loss: 1.121754  [25664/60000]\n",
            "loss: 1.131396  [32064/60000]\n",
            "loss: 1.163495  [38464/60000]\n",
            "loss: 1.107744  [44864/60000]\n",
            "loss: 1.134851  [51264/60000]\n",
            "loss: 1.060755  [57664/60000]\n",
            "Test Error: \n",
            " Accuracy: 65.1%, Avg loss: 1.079211 \n",
            "\n",
            "Done!\n"
          ]
        }
      ]
    },
    {
      "cell_type": "code",
      "source": [
        "torch.save(model.state_dict(), \"model.pth\")\n",
        "print(\"Saved PyTorch Model State to model.pth\")"
      ],
      "metadata": {
        "colab": {
          "base_uri": "https://localhost:8080/"
        },
        "id": "ZTrLTZvuCiOx",
        "outputId": "365ceaf3-93c1-460d-82f6-dedbea35308e"
      },
      "execution_count": 21,
      "outputs": [
        {
          "output_type": "stream",
          "name": "stdout",
          "text": [
            "Saved PyTorch Model State to model.pth\n"
          ]
        }
      ]
    }
  ]
}